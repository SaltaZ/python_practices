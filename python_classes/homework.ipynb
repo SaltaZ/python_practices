{
 "cells": [
  {
   "cell_type": "code",
   "execution_count": 1,
   "id": "d15f7515",
   "metadata": {},
   "outputs": [
    {
     "name": "stdout",
     "output_type": "stream",
     "text": [
      "['Bangkok', 'Seoul', 'Paris', 'London', 'Frankfurt']\n"
     ]
    }
   ],
   "source": [
    "cities = [\"Bangkok\", \"Seoul\", \"Paris\", \"London\", \"Frankfurt\"]\n",
    "print(cities)"
   ]
  },
  {
   "cell_type": "code",
   "execution_count": 2,
   "id": "e2a66791",
   "metadata": {},
   "outputs": [
    {
     "name": "stdout",
     "output_type": "stream",
     "text": [
      "['Bangkok', 'Seoul', 'Paris', 'London', 'Frankfurt', 'Astana']\n"
     ]
    }
   ],
   "source": [
    "cities.append(\"Astana\")\n",
    "print(cities)"
   ]
  },
  {
   "cell_type": "code",
   "execution_count": 4,
   "id": "c709306d",
   "metadata": {},
   "outputs": [
    {
     "name": "stdout",
     "output_type": "stream",
     "text": [
      "['Bangkok', 'London', 'Frankfurt', 'Astana']\n"
     ]
    }
   ],
   "source": [
    "cities.pop(1)\n",
    "print(cities)"
   ]
  },
  {
   "cell_type": "code",
   "execution_count": 5,
   "id": "f3785aa9",
   "metadata": {},
   "outputs": [
    {
     "name": "stdout",
     "output_type": "stream",
     "text": [
      "Astana\n"
     ]
    }
   ],
   "source": [
    "print(cities[3])\n"
   ]
  },
  {
   "cell_type": "code",
   "execution_count": 6,
   "id": "b0e7b7ca",
   "metadata": {},
   "outputs": [
    {
     "name": "stdout",
     "output_type": "stream",
     "text": [
      "[30, 40, 50]\n"
     ]
    }
   ],
   "source": [
    "numbers = [10, 20, 30, 40, 50, 60]\n",
    "sub_list = numbers[2:5]\n",
    "print(sub_list) "
   ]
  },
  {
   "cell_type": "code",
   "execution_count": 12,
   "id": "06779fa3",
   "metadata": {},
   "outputs": [
    {
     "name": "stdout",
     "output_type": "stream",
     "text": [
      "[['Mike', 12, 'purple'], ['Steve', 16, 'red'], ['Dustin', 13, 'yellow']]\n"
     ]
    }
   ],
   "source": [
    "people = [\n",
    "    [\"Mike\", 12, \"purple\"],\n",
    "    [\"Steve\", 16, \"red\"],\n",
    "    [\"Dustin\", 13, \"yellow\"],\n",
    "]\n",
    "print(people)"
   ]
  },
  {
   "cell_type": "code",
   "execution_count": 13,
   "id": "6b3a0d67",
   "metadata": {},
   "outputs": [
    {
     "name": "stdout",
     "output_type": "stream",
     "text": [
      "[['Mike', 12, 'purple'], ['Steve', 16, 'red'], ['Dustin', 13, 'yellow'], ['Eleven', 15, 'white'], ['Nancy', 17, 'burgundy'], ['Jim', 50, 'orange']]\n"
     ]
    }
   ],
   "source": [
    "people.extend([\n",
    "    [\"Eleven\", 15, \"white\"],\n",
    "    [\"Nancy\", 17, \"burgundy\"],\n",
    "    [\"Jim\", 50, \"orange\"]\n",
    "])\n",
    "print(people)"
   ]
  },
  {
   "cell_type": "code",
   "execution_count": 14,
   "id": "b9c91d91",
   "metadata": {},
   "outputs": [
    {
     "name": "stdout",
     "output_type": "stream",
     "text": [
      "{'title': \"One Flew Over the Cuckoo's Nest\", 'author': 'Ken Kesey', 'published_year': 1962}\n"
     ]
    }
   ],
   "source": [
    "book = {\n",
    "    \"title\": \"One Flew Over the Cuckoo's Nest\",\n",
    "    \"author\": \"Ken Kesey\",\n",
    "    \"published_year\": 1962 \n",
    "}\n",
    "print(book)"
   ]
  },
  {
   "cell_type": "code",
   "execution_count": 16,
   "id": "00611d98",
   "metadata": {},
   "outputs": [
    {
     "name": "stdout",
     "output_type": "stream",
     "text": [
      "{'title': \"One Flew Over the Cuckoo's Nest\", 'author': 'Ken Kesey', 'published_year': 2023}\n"
     ]
    }
   ],
   "source": [
    "book[\"published_year\"] = 2023\n",
    "print(book)"
   ]
  },
  {
   "cell_type": "code",
   "execution_count": 17,
   "id": "2fedbe1d",
   "metadata": {},
   "outputs": [
    {
     "name": "stdout",
     "output_type": "stream",
     "text": [
      "dict_keys(['title', 'author', 'published_year'])\n"
     ]
    }
   ],
   "source": [
    "print(book.keys())"
   ]
  },
  {
   "cell_type": "code",
   "execution_count": 18,
   "id": "0731c9ac",
   "metadata": {},
   "outputs": [
    {
     "name": "stdout",
     "output_type": "stream",
     "text": [
      "{'name': 'John', 'address': {'city': 'NY', 'zipcode': '10001'}}\n"
     ]
    }
   ],
   "source": [
    "person = {\"name\": \"John\", \"address\": {\"city\": \"NY\", \"zipcode\": \"10001\"}}\n",
    "print(person)"
   ]
  },
  {
   "cell_type": "code",
   "execution_count": 19,
   "id": "de338349",
   "metadata": {},
   "outputs": [
    {
     "name": "stdout",
     "output_type": "stream",
     "text": [
      "{'city': 'NY', 'zipcode': '10001'} ['zipcode']\n"
     ]
    }
   ],
   "source": [
    "print(person[\"address\"], [\"zipcode\"])"
   ]
  },
  {
   "cell_type": "code",
   "execution_count": 21,
   "id": "6bb1ba6e",
   "metadata": {},
   "outputs": [
    {
     "name": "stdout",
     "output_type": "stream",
     "text": [
      "('Lalaland', \"Ferris Bueller's Day off\", 'Interstellar')\n"
     ]
    }
   ],
   "source": [
    "fav_movies = (\"Lalaland\", \"Ferris Bueller's Day off\", \"Interstellar\")\n",
    "print(fav_movies)"
   ]
  },
  {
   "cell_type": "code",
   "execution_count": 22,
   "id": "36da80dd",
   "metadata": {},
   "outputs": [
    {
     "name": "stdout",
     "output_type": "stream",
     "text": [
      "Avatar is not one of my favorite movies.\n"
     ]
    }
   ],
   "source": [
    "if \"Avatar\" in fav_movies:\n",
    "    print(\"Avatar is one of my favorite movies!\")\n",
    "else:\n",
    "    print(\"Avatar is not one of my favorite movies.\")"
   ]
  },
  {
   "cell_type": "code",
   "execution_count": 23,
   "id": "d45a0f37",
   "metadata": {},
   "outputs": [
    {
     "name": "stdout",
     "output_type": "stream",
     "text": [
      "{'lemon', 'pear', 'melon'}\n",
      "{'lemon', 'apple', 'pear', 'melon'}\n",
      "Apple is in my fruit's list.\n"
     ]
    }
   ],
   "source": [
    "fruits = {\"pear\", \"melon\", \"lemon\"}\n",
    "print(fruits)\n",
    "fruits.add(\"apple\")\n",
    "print(fruits)\n",
    "if \"apple\" in fruits:\n",
    "    print(\"Apple is in my fruit's list.\")\n",
    "else:\n",
    "    print(\"Apple is not in my fruit's list.\")"
   ]
  },
  {
   "cell_type": "code",
   "execution_count": 28,
   "id": "01be2812",
   "metadata": {},
   "outputs": [
    {
     "name": "stdout",
     "output_type": "stream",
     "text": [
      "{3, 4}\n"
     ]
    }
   ],
   "source": [
    "A = {1, 2, 3, 4}\n",
    "B = {3, 4, 5, 6}\n",
    "intersection = A & B\n",
    "print(f\"{intersection}\")"
   ]
  },
  {
   "cell_type": "code",
   "execution_count": 27,
   "id": "9e898603",
   "metadata": {},
   "outputs": [
    {
     "name": "stdout",
     "output_type": "stream",
     "text": [
      "{1, 2, 3, 4, 5, 6}\n"
     ]
    }
   ],
   "source": [
    "union = A | B\n",
    "print(f\"{union}\")"
   ]
  },
  {
   "cell_type": "code",
   "execution_count": 29,
   "id": "f6105c42",
   "metadata": {},
   "outputs": [
    {
     "data": {
      "text/plain": [
       "True"
      ]
     },
     "execution_count": 29,
     "metadata": {},
     "output_type": "execute_result"
    }
   ],
   "source": [
    "5 > 3"
   ]
  },
  {
   "cell_type": "code",
   "execution_count": 30,
   "id": "2baaed22",
   "metadata": {},
   "outputs": [
    {
     "data": {
      "text/plain": [
       "True"
      ]
     },
     "execution_count": 30,
     "metadata": {},
     "output_type": "execute_result"
    }
   ],
   "source": [
    "5 > 8 or 3 < 4"
   ]
  },
  {
   "cell_type": "code",
   "execution_count": 32,
   "id": "96e8d63e",
   "metadata": {},
   "outputs": [
    {
     "name": "stdout",
     "output_type": "stream",
     "text": [
      "False\n",
      "True\n"
     ]
    }
   ],
   "source": [
    "a = 5\n",
    "b = 8\n",
    "print(a == b)\n",
    "print(a != b)"
   ]
  },
  {
   "cell_type": "code",
   "execution_count": null,
   "id": "2c660668",
   "metadata": {},
   "outputs": [],
   "source": []
  }
 ],
 "metadata": {
  "kernelspec": {
   "display_name": "Python 3 (ipykernel)",
   "language": "python",
   "name": "python3"
  },
  "language_info": {
   "codemirror_mode": {
    "name": "ipython",
    "version": 3
   },
   "file_extension": ".py",
   "mimetype": "text/x-python",
   "name": "python",
   "nbconvert_exporter": "python",
   "pygments_lexer": "ipython3",
   "version": "3.11.5"
  }
 },
 "nbformat": 4,
 "nbformat_minor": 5
}
